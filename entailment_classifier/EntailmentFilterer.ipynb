{
 "cells": [
  {
   "cell_type": "code",
   "execution_count": 1,
   "metadata": {},
   "outputs": [
    {
     "name": "stderr",
     "output_type": "stream",
     "text": [
      "Using custom data configuration default\n",
      "Reusing dataset gigaword (/tmp/xdg-cache/huggingface/datasets/gigaword/default/1.2.0/c518c578e42a6afe842b09e979ee2907ea42a12b57ba992fae9e9d7347825245)\n"
     ]
    }
   ],
   "source": [
    "from datasets import load_dataset\n",
    "import pandas as pd\n",
    "import torch\n",
    "from torch.utils.data import DataLoader\n",
    "from sklearn.model_selection import train_test_split\n",
    "# pose sequence as a NLI premise and label as a hypothesis\n",
    "from transformers import AutoModelForSequenceClassification, AutoTokenizer, AdamW\n",
    "from datasets import load_metric\n",
    "import torch.nn.functional as F\n",
    "\n",
    "giga_dataset = load_dataset(\"gigaword\", split='train[:1%]')"
   ]
  },
  {
   "cell_type": "code",
   "execution_count": 2,
   "metadata": {},
   "outputs": [
    {
     "name": "stderr",
     "output_type": "stream",
     "text": [
      "Some weights of the model checkpoint at facebook/bart-large-mnli were not used when initializing BartForSequenceClassification: ['model.encoder.version', 'model.decoder.version']\n",
      "- This IS expected if you are initializing BartForSequenceClassification from the checkpoint of a model trained on another task or with another architecture (e.g. initializing a BertForSequenceClassification model from a BertForPreTraining model).\n",
      "- This IS NOT expected if you are initializing BartForSequenceClassification from the checkpoint of a model that you expect to be exactly identical (initializing a BertForSequenceClassification model from a BertForSequenceClassification model).\n"
     ]
    }
   ],
   "source": [
    "device = 'cuda' if torch.cuda.is_available() else 'cpu'\n",
    "\n",
    "nli_model = AutoModelForSequenceClassification.from_pretrained('facebook/bart-large-mnli').to(device)\n",
    "tokenizer = AutoTokenizer.from_pretrained('facebook/bart-large-mnli')"
   ]
  },
  {
   "cell_type": "code",
   "execution_count": 3,
   "metadata": {},
   "outputs": [
    {
     "name": "stdout",
     "output_type": "stream",
     "text": [
      "Dataset({\n",
      "    features: ['document', 'summary'],\n",
      "    num_rows: 38040\n",
      "})\n"
     ]
    },
    {
     "data": {
      "application/vnd.jupyter.widget-view+json": {
       "model_id": "f95098428b7246bc83db8127d017e024",
       "version_major": 2,
       "version_minor": 0
      },
      "text/plain": [
       "HBox(children=(FloatProgress(value=0.0, max=38040.0), HTML(value='')))"
      ]
     },
     "metadata": {},
     "output_type": "display_data"
    },
    {
     "name": "stdout",
     "output_type": "stream",
     "text": [
      "\n",
      "{'attention_mask': [tensor([1, 1, 1,  ..., 0, 0, 0])], 'input_ids': [tensor([   0,  102, 4193,  ...,    1,    1,    1])]}\n"
     ]
    }
   ],
   "source": [
    "giga_filtered_keys = pd.DataFrame()\n",
    "\n",
    "def mapper(examples):\n",
    "    return tokenizer([(examples['document'], examples['summary'])], return_tensors='pt', truncation=True, padding='max_length')\n",
    "print(giga_dataset)\n",
    "\n",
    "gigaset = giga_dataset.map(mapper)\n",
    "\n",
    "gigaset.set_format(type='torch', columns=['input_ids', 'attention_mask'])\n",
    "print(gigaset[0])"
   ]
  },
  {
   "cell_type": "code",
   "execution_count": 4,
   "metadata": {},
   "outputs": [
    {
     "name": "stdout",
     "output_type": "stream",
     "text": [
      "{'attention_mask': [tensor([[1, 1, 1,  ..., 0, 0, 0],\n",
      "        [1, 1, 1,  ..., 0, 0, 0],\n",
      "        [1, 1, 1,  ..., 0, 0, 0],\n",
      "        [1, 1, 1,  ..., 0, 0, 0]])], 'input_ids': [tensor([[    0,   102,  4193,  ...,     1,     1,     1],\n",
      "        [    0,   415,   513,  ...,     1,     1,     1],\n",
      "        [    0,   102,  4193,  ...,     1,     1,     1],\n",
      "        [    0, 25515,   449,  ...,     1,     1,     1]])]}\n",
      "       index_keys\n",
      "0               1\n",
      "1               1\n",
      "2               1\n",
      "3               1\n",
      "4               1\n",
      "...           ...\n",
      "38035           1\n",
      "38036           1\n",
      "38037           1\n",
      "38038           1\n",
      "38039           1\n",
      "\n",
      "[38040 rows x 1 columns]\n"
     ]
    }
   ],
   "source": [
    "giga_filtered_keys = pd.DataFrame()\n",
    "\n",
    "giga_loader = DataLoader(gigaset, batch_size=4)\n",
    "\n",
    "print(next(iter(giga_loader)))\n",
    "\n",
    "with torch.no_grad():\n",
    "    all_preds = []\n",
    "    for batch in giga_loader:\n",
    "        batch = {k: v[0].to(device) for k, v in batch.items()}\n",
    "        outputs = nli_model(**batch)\n",
    "        preds = torch.argmax(F.softmax(outputs[0][:,[0,2]], dim=1), dim=1)\n",
    "        all_preds.append(preds)\n",
    "        \n",
    "    giga_filtered_keys['index_keys'] = torch.cat(all_preds, dim=0).cpu()\n",
    "    \n",
    "print(giga_filtered_keys)"
   ]
  },
  {
   "cell_type": "code",
   "execution_count": 5,
   "metadata": {},
   "outputs": [],
   "source": [
    "# for i,item in enumerate(giga_filtered_keys['index_keys']):\n",
    "#     if item == 0:\n",
    "#         print(i)"
   ]
  },
  {
   "cell_type": "code",
   "execution_count": 6,
   "metadata": {},
   "outputs": [],
   "source": [
    "giga_filtered_keys.to_csv('./gigawordfiltered.csv')"
   ]
  }
 ],
 "metadata": {
  "kernelspec": {
   "display_name": "Python 3",
   "language": "python",
   "name": "python3"
  },
  "language_info": {
   "codemirror_mode": {
    "name": "ipython",
    "version": 3
   },
   "file_extension": ".py",
   "mimetype": "text/x-python",
   "name": "python",
   "nbconvert_exporter": "python",
   "pygments_lexer": "ipython3",
   "version": "3.7.6"
  }
 },
 "nbformat": 4,
 "nbformat_minor": 4
}
